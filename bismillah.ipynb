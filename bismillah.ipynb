{
  "nbformat": 4,
  "nbformat_minor": 0,
  "metadata": {
    "colab": {
      "name": "bismillah.ipynb",
      "provenance": [],
      "authorship_tag": "ABX9TyNbdL7h4bG0FUk5S2jbPEVx",
      "include_colab_link": true
    },
    "kernelspec": {
      "name": "python3",
      "display_name": "Python 3"
    }
  },
  "cells": [
    {
      "cell_type": "markdown",
      "metadata": {
        "id": "view-in-github",
        "colab_type": "text"
      },
      "source": [
        "<a href=\"https://colab.research.google.com/github/maysarahkhld/python11/blob/main/bismillah.ipynb\" target=\"_parent\"><img src=\"https://colab.research.google.com/assets/colab-badge.svg\" alt=\"Open In Colab\"/></a>"
      ]
    },
    {
      "cell_type": "code",
      "metadata": {
        "colab": {
          "base_uri": "https://localhost:8080/"
        },
        "id": "MTdplV-PPO5P",
        "outputId": "ba470fb3-2a71-4f91-df48-56de788a3ba8"
      },
      "source": [
        "from google.colab import drive\n",
        "drive.mount('/content/drive')"
      ],
      "execution_count": 1,
      "outputs": [
        {
          "output_type": "stream",
          "text": [
            "Mounted at /content/drive\n"
          ],
          "name": "stdout"
        }
      ]
    },
    {
      "cell_type": "code",
      "metadata": {
        "colab": {
          "base_uri": "https://localhost:8080/"
        },
        "id": "hqWCBrZjPUI_",
        "outputId": "9db31e27-1ad6-4f30-8fa3-88a1af3ee8e0"
      },
      "source": [
        "cd /content/drive/MyDrive/Colab Notebooks"
      ],
      "execution_count": 2,
      "outputs": [
        {
          "output_type": "stream",
          "text": [
            "/content/drive/MyDrive/Colab Notebooks\n"
          ],
          "name": "stdout"
        }
      ]
    },
    {
      "cell_type": "code",
      "metadata": {
        "colab": {
          "base_uri": "https://localhost:8080/"
        },
        "id": "pzY_8zs9PXro",
        "outputId": "593fc401-a4d0-4366-ab79-9ac386c8efca"
      },
      "source": [
        "ls"
      ],
      "execution_count": 3,
      "outputs": [
        {
          "output_type": "stream",
          "text": [
            "\u001b[0m\u001b[01;34m3scene\u001b[0m/  aldamay.ipynb  bismillah.ipynb  \u001b[01;36mdataset\u001b[0m@  \u001b[01;34mdata_set\u001b[0m/\n"
          ],
          "name": "stdout"
        }
      ]
    },
    {
      "cell_type": "code",
      "metadata": {
        "id": "IJrWWCPyPYxK"
      },
      "source": [
        "# import the necessary packages\n",
        "from keras.models import Sequential\n",
        "from keras.layers.core import Activation\n",
        "from keras.layers.core import Flatten\n",
        "from keras.layers.core import Dense\n",
        "from keras.optimizers import Adam\n",
        "from sklearn.preprocessing import LabelBinarizer\n",
        "from sklearn.model_selection import train_test_split\n",
        "from sklearn.metrics import classification_report\n",
        "from PIL import Image\n",
        "from imutils import paths\n",
        "import numpy as np\n",
        "import os"
      ],
      "execution_count": 4,
      "outputs": []
    },
    {
      "cell_type": "code",
      "metadata": {
        "colab": {
          "base_uri": "https://localhost:8080/"
        },
        "id": "tp8hQgUwPcao",
        "outputId": "120ea655-568a-4896-8291-6316cf7b2862"
      },
      "source": [
        "# grab all image paths in the input dataset directory, then initialize\n",
        "# our list of images and corresponding class labels\n",
        "print(\"[INFO] loading images...\")\n",
        "imagePaths = paths.list_images(\"data_set\")\n",
        "data = []\n",
        "labels = []"
      ],
      "execution_count": 5,
      "outputs": [
        {
          "output_type": "stream",
          "text": [
            "[INFO] loading images...\n"
          ],
          "name": "stdout"
        }
      ]
    },
    {
      "cell_type": "code",
      "metadata": {
        "id": "mtv4x7X-PiyF"
      },
      "source": [
        "# loop over our input images\n",
        "for imagePath in imagePaths:\n",
        "\t# load the input image from disk, resize it to 32X32 pixels, scale\n",
        "\t# the pixel intensities to the range [0, 1], and then update our\n",
        "\t# images list\n",
        "\timage = Image.open(imagePath)\n",
        "  #preprocessing\n",
        "\timage = np.array(image.resize((32, 32))) / 255.0 #normalisasi\n",
        "\tdata.append(image)\n",
        "\n",
        "\t# extract the class label from the file path and update the\n",
        "\t# labels list\n",
        "\tlabel = imagePath.split(os.path.sep)[-2]\n",
        "\tlabels.append(label)"
      ],
      "execution_count": 6,
      "outputs": []
    },
    {
      "cell_type": "code",
      "metadata": {
        "colab": {
          "base_uri": "https://localhost:8080/"
        },
        "id": "ec-6Bd-mPnVw",
        "outputId": "2c1693e6-0c9e-4da7-d052-def2e9bdc4f1"
      },
      "source": [
        "print(labels)"
      ],
      "execution_count": 8,
      "outputs": [
        {
          "output_type": "stream",
          "text": [
            "['GMB_07', 'GMB_07', 'GMB_07', 'GMB_07', 'GMB_07', 'GMB_07', 'GMB_07', 'GMB_07', 'GMB_07', 'GMB_07', 'GMB_07', 'GMB_07', 'GMB_07', 'GMB_07', 'GMB_07', 'GMB_07', 'GMB_07', 'GMB_07', 'GMB_07', 'GMB_07', 'GMB_07', 'GMB_07', 'GMB_07', 'GMB_07', 'GMB_07', 'GMB_07', 'GMB_07', 'GMB_07', 'GMB_07', 'GMB_07', 'GMB_07', 'GMB_07', 'GMB_07', 'GMB_07', 'GMB_07', 'GMB_07', 'GMB_07', 'GMB_07', 'GMB_07', 'GMB_07', 'GMB_07', 'GMB_07', 'GMB_07', 'GMB_07', 'GMB_07', 'GMB_07', 'GMB_07', 'GMB_07', 'GMB_07', 'GMB_07', 'GMB_07', 'GMB_07', 'GMB_07', 'GMB_07', 'GMB_07', 'GMB_07', 'GMB_07', 'GMB_07', 'GMB_07', 'GMB_07', 'GMB_07', 'GMB_07', 'GMB_07', 'GMB_07', 'GMB_07', 'GMB_07', 'GMB_07', 'GMB_07', 'GMB_07', 'GMB_07', 'GMB_07', 'GMB_07', 'GMB_07', 'GMB_07', 'GMB_07', 'GMB_07', 'GMB_07', 'GMB_07', 'GMB_07', 'GMB_07', 'GMB_07', 'GMB_07', 'GMB_07', 'GMB_07', 'GMB_07', 'GMB_07', 'GMB_07', 'GMB_07', 'GMB_07', 'GMB_07', 'GMB_07', 'GMB_07', 'GMB_07', 'GMB_07', 'GMB_07', 'GMB_07', 'GMB_07', 'GMB_07', 'GMB_07', 'GMB_07', 'GMB_07', 'GMB_07', 'GMB_07', 'GMB_07', 'GMB_07', 'GMB_07', 'GMB_07', 'GMB_07', 'GMB_07', 'GMB_07', 'GMB_04', 'GMB_04', 'GMB_04', 'GMB_04', 'GMB_04', 'GMB_04', 'GMB_04', 'GMB_04', 'GMB_04', 'GMB_04', 'GMB_04', 'GMB_04', 'GMB_04', 'GMB_04', 'GMB_04', 'GMB_04', 'GMB_04', 'GMB_04', 'GMB_04', 'GMB_04', 'GMB_04', 'GMB_04', 'GMB_04', 'GMB_04', 'GMB_04', 'GMB_04', 'GMB_04', 'GMB_04', 'GMB_04', 'GMB_04', 'GMB_04', 'GMB_04', 'GMB_04', 'GMB_04', 'GMB_04', 'GMB_04', 'GMB_04', 'GMB_04', 'GMB_04', 'GMB_04', 'GMB_04', 'GMB_04', 'GMB_04', 'GMB_04', 'GMB_04', 'GMB_04', 'GMB_04', 'GMB_04', 'GMB_04', 'GMB_04', 'GMB_04', 'GMB_04', 'GMB_04', 'GMB_04', 'GMB_04', 'GMB_04', 'GMB_04', 'GMB_04', 'GMB_04', 'GMB_04', 'GMB_04', 'GMB_04', 'GMB_04', 'GMB_04', 'GMB_04', 'GMB_04', 'GMB_04', 'GMB_04', 'GMB_04', 'GMB_04', 'GMB_04', 'GMB_04', 'GMB_04', 'GMB_04', 'GMB_04', 'GMB_04', 'GMB_04', 'GMB_04', 'GMB_04', 'GMB_04', 'GMB_04', 'GMB_04', 'GMB_04', 'GMB_04', 'GMB_04', 'GMB_04', 'GMB_04', 'GMB_04', 'GMB_04', 'GMB_04', 'GMB_04', 'GMB_04', 'GMB_04', 'GMB_04', 'GMB_04', 'GMB_04', 'GMB_04', 'GMB_04', 'GMB_04', 'GMB_04', 'GMB_04', 'GMB_04', 'GMB_04', 'GMB_04', 'GMB_04', 'GMB_04', 'GMB_04', 'GMB_04', 'GMB_04', 'GMB_04', 'GMB_04', 'GMB_04', 'GMB_01', 'GMB_01', 'GMB_01', 'GMB_01', 'GMB_01', 'GMB_01', 'GMB_01', 'GMB_01', 'GMB_01', 'GMB_01', 'GMB_01', 'GMB_01', 'GMB_01', 'GMB_01', 'GMB_01', 'GMB_01', 'GMB_01', 'GMB_01', 'GMB_01', 'GMB_01', 'GMB_01', 'GMB_01', 'GMB_01', 'GMB_01', 'GMB_01', 'GMB_01', 'GMB_01', 'GMB_01', 'GMB_01', 'GMB_01', 'GMB_01', 'GMB_01', 'GMB_01', 'GMB_01', 'GMB_01', 'GMB_01', 'GMB_01', 'GMB_01', 'GMB_01', 'GMB_01', 'GMB_01', 'GMB_01', 'GMB_01', 'GMB_01', 'GMB_01', 'GMB_01', 'GMB_01', 'GMB_01', 'GMB_01', 'GMB_01', 'GMB_01', 'GMB_01', 'GMB_01', 'GMB_01', 'GMB_01', 'GMB_01', 'GMB_01', 'GMB_01', 'GMB_01', 'GMB_01', 'GMB_01', 'GMB_01', 'GMB_01', 'GMB_01', 'GMB_01', 'GMB_01', 'GMB_01', 'GMB_01', 'GMB_01', 'GMB_01', 'GMB_01', 'GMB_01', 'GMB_01', 'GMB_01', 'GMB_01', 'GMB_01', 'GMB_01', 'GMB_01', 'GMB_01', 'GMB_01', 'GMB_01', 'GMB_01', 'GMB_01', 'GMB_01', 'GMB_01', 'GMB_01', 'GMB_01', 'GMB_01', 'GMB_01', 'GMB_01', 'GMB_01', 'GMB_01', 'GMB_01', 'GMB_01', 'GMB_01', 'GMB_01', 'GMB_01', 'GMB_01', 'GMB_01', 'GMB_01', 'GMB_01', 'GMB_01', 'GMB_01', 'GMB_10', 'GMB_10', 'GMB_10', 'GMB_10', 'GMB_10', 'GMB_10', 'GMB_10', 'GMB_10', 'GMB_10', 'GMB_10', 'GMB_10', 'GMB_10', 'GMB_10', 'GMB_10', 'GMB_10', 'GMB_10', 'GMB_10', 'GMB_10', 'GMB_10', 'GMB_10', 'GMB_10', 'GMB_10', 'GMB_10', 'GMB_10', 'GMB_10', 'GMB_10', 'GMB_10', 'GMB_10', 'GMB_10', 'GMB_10', 'GMB_10', 'GMB_10', 'GMB_10', 'GMB_10', 'GMB_10', 'GMB_10', 'GMB_10', 'GMB_10', 'GMB_10', 'GMB_10', 'GMB_10', 'GMB_10', 'GMB_10', 'GMB_10', 'GMB_10', 'GMB_10', 'GMB_10', 'GMB_10', 'GMB_10', 'GMB_10', 'GMB_10', 'GMB_10', 'GMB_10', 'GMB_10', 'GMB_10', 'GMB_10', 'GMB_10', 'GMB_10', 'GMB_10', 'GMB_10', 'GMB_10', 'GMB_10', 'GMB_10', 'GMB_10', 'GMB_10', 'GMB_10', 'GMB_10', 'GMB_10', 'GMB_10', 'GMB_10', 'GMB_10', 'GMB_10', 'GMB_10', 'GMB_10', 'GMB_10', 'GMB_10', 'GMB_10', 'GMB_10', 'GMB_10', 'GMB_10', 'GMB_10', 'GMB_10', 'GMB_10', 'GMB_10', 'GMB_10', 'GMB_10', 'GMB_10', 'GMB_10', 'GMB_10', 'GMB_10', 'GMB_10', 'GMB_10', 'GMB_10', 'GMB_10', 'GMB_10', 'GMB_10', 'GMB_10', 'GMB_10', 'GMB_10', 'GMB_10', 'GMB_10', 'GMB_10', 'GMB_10', 'GMB_10', 'GMB_02', 'GMB_02', 'GMB_02', 'GMB_02', 'GMB_02', 'GMB_02', 'GMB_02', 'GMB_02', 'GMB_02', 'GMB_02', 'GMB_02', 'GMB_02', 'GMB_02', 'GMB_02', 'GMB_02', 'GMB_02', 'GMB_02', 'GMB_02', 'GMB_02', 'GMB_02', 'GMB_02', 'GMB_02', 'GMB_02', 'GMB_02', 'GMB_02', 'GMB_02', 'GMB_02', 'GMB_02', 'GMB_02', 'GMB_02', 'GMB_02', 'GMB_02', 'GMB_02', 'GMB_02', 'GMB_02', 'GMB_02', 'GMB_02', 'GMB_02', 'GMB_02', 'GMB_02', 'GMB_02', 'GMB_02', 'GMB_02', 'GMB_02', 'GMB_02', 'GMB_02', 'GMB_02', 'GMB_02', 'GMB_02', 'GMB_02', 'GMB_02', 'GMB_02', 'GMB_02', 'GMB_02', 'GMB_02', 'GMB_02', 'GMB_02', 'GMB_02', 'GMB_02', 'GMB_02', 'GMB_02', 'GMB_02', 'GMB_02', 'GMB_02', 'GMB_02', 'GMB_02', 'GMB_02', 'GMB_02', 'GMB_02', 'GMB_02', 'GMB_02', 'GMB_02', 'GMB_02', 'GMB_02', 'GMB_02', 'GMB_02', 'GMB_02', 'GMB_02', 'GMB_02', 'GMB_02', 'GMB_02', 'GMB_02', 'GMB_02', 'GMB_02', 'GMB_02', 'GMB_02', 'GMB_02', 'GMB_02', 'GMB_02', 'GMB_02', 'GMB_02', 'GMB_02', 'GMB_02', 'GMB_02', 'GMB_02', 'GMB_02', 'GMB_02', 'GMB_02', 'GMB_02', 'GMB_02', 'GMB_02', 'GMB_02', 'GMB_02', 'GMB_02', 'GMB_02', 'GMB_02', 'GMB_02', 'GMB_02', 'GMB_02', 'GMB_02', 'GMB_02', 'GMB_02', 'GMB_02']\n"
          ],
          "name": "stdout"
        }
      ]
    },
    {
      "cell_type": "code",
      "metadata": {
        "id": "wtSWMDONPxah"
      },
      "source": [
        "# encode the labels, converting them from strings to integers\n",
        "lb = LabelBinarizer()\n",
        "labels = lb.fit_transform(labels)"
      ],
      "execution_count": 9,
      "outputs": []
    },
    {
      "cell_type": "code",
      "metadata": {
        "colab": {
          "base_uri": "https://localhost:8080/"
        },
        "id": "pELtWd3xQZDX",
        "outputId": "0e3dafc1-d569-41b9-e99c-6adbc21728f8"
      },
      "source": [
        "print(labels)"
      ],
      "execution_count": 10,
      "outputs": [
        {
          "output_type": "stream",
          "text": [
            "[[0 0 0 1 0]\n",
            " [0 0 0 1 0]\n",
            " [0 0 0 1 0]\n",
            " ...\n",
            " [0 1 0 0 0]\n",
            " [0 1 0 0 0]\n",
            " [0 1 0 0 0]]\n"
          ],
          "name": "stdout"
        }
      ]
    },
    {
      "cell_type": "code",
      "metadata": {
        "colab": {
          "base_uri": "https://localhost:8080/"
        },
        "id": "HGnGnC7eWgcZ",
        "outputId": "93a77f28-293b-403d-df8d-f6f400fe1cae"
      },
      "source": [
        "# perform a training and testing split, using 75% of the data for\n",
        "# training and 25% for evaluation\n",
        "(trainX, testX, trainY, testY) = train_test_split(np.array(data),\tnp.array(labels), test_size=0.25, shuffle=True)\n",
        "print(trainX.shape)\n",
        "print(testX.shape)"
      ],
      "execution_count": 11,
      "outputs": [
        {
          "output_type": "stream",
          "text": [
            "(406, 32, 32, 3)\n",
            "(136, 32, 32, 3)\n"
          ],
          "name": "stdout"
        }
      ]
    },
    {
      "cell_type": "code",
      "metadata": {
        "colab": {
          "base_uri": "https://localhost:8080/"
        },
        "id": "cka-Jq71WjHO",
        "outputId": "b87d6e5f-86f1-46dd-a481-7195964535bc"
      },
      "source": [
        "from keras.layers import Convolution2D, MaxPooling2D\n",
        "from keras.models import Sequential\n",
        "from keras.layers.core import Flatten, Dense\n",
        "\n",
        "model1 = Sequential()\n",
        "model1.add(Convolution2D(32, (3,3), activation='relu', input_shape=(32,32,3)))\n",
        "model1.add(MaxPooling2D(2,2))\n",
        "model1.add(Convolution2D(64, (3,3), activation='relu'))\n",
        "model1.add(MaxPooling2D(2,2))\n",
        "model1.add(Convolution2D(64, (3,3), activation='relu'))\n",
        "model1.add(MaxPooling2D(2,2))\n",
        "#fully connected layer\n",
        "model1.add(Flatten())\n",
        "model1.add(Dense(100, activation='relu'))\n",
        "model1.add(Dense(5, activation='softmax'))\n",
        "\n",
        "model1.summary()"
      ],
      "execution_count": 12,
      "outputs": [
        {
          "output_type": "stream",
          "text": [
            "Model: \"sequential\"\n",
            "_________________________________________________________________\n",
            "Layer (type)                 Output Shape              Param #   \n",
            "=================================================================\n",
            "conv2d (Conv2D)              (None, 30, 30, 32)        896       \n",
            "_________________________________________________________________\n",
            "max_pooling2d (MaxPooling2D) (None, 15, 15, 32)        0         \n",
            "_________________________________________________________________\n",
            "conv2d_1 (Conv2D)            (None, 13, 13, 64)        18496     \n",
            "_________________________________________________________________\n",
            "max_pooling2d_1 (MaxPooling2 (None, 6, 6, 64)          0         \n",
            "_________________________________________________________________\n",
            "conv2d_2 (Conv2D)            (None, 4, 4, 64)          36928     \n",
            "_________________________________________________________________\n",
            "max_pooling2d_2 (MaxPooling2 (None, 2, 2, 64)          0         \n",
            "_________________________________________________________________\n",
            "flatten (Flatten)            (None, 256)               0         \n",
            "_________________________________________________________________\n",
            "dense (Dense)                (None, 100)               25700     \n",
            "_________________________________________________________________\n",
            "dense_1 (Dense)              (None, 5)                 505       \n",
            "=================================================================\n",
            "Total params: 82,525\n",
            "Trainable params: 82,525\n",
            "Non-trainable params: 0\n",
            "_________________________________________________________________\n"
          ],
          "name": "stdout"
        }
      ]
    },
    {
      "cell_type": "code",
      "metadata": {
        "colab": {
          "base_uri": "https://localhost:8080/"
        },
        "id": "V781xeBFWogz",
        "outputId": "22980c09-04dc-429c-b77e-b24c86c2dc18"
      },
      "source": [
        "# train the model using the Adam optimizer\n",
        "print(\"[INFO] training network...\")\n",
        "opt = Adam(lr=1e-3, decay=1e-3 / 50)\n",
        "model1.compile(loss=\"categorical_crossentropy\", optimizer=opt, metrics=[\"accuracy\"])"
      ],
      "execution_count": 13,
      "outputs": [
        {
          "output_type": "stream",
          "text": [
            "[INFO] training network...\n"
          ],
          "name": "stdout"
        }
      ]
    },
    {
      "cell_type": "code",
      "metadata": {
        "colab": {
          "base_uri": "https://localhost:8080/"
        },
        "id": "0BJIAUb0WtUk",
        "outputId": "3198a3d5-8bd6-4632-935d-53f6ed1b6875"
      },
      "source": [
        "H = model1.fit(trainX, trainY, validation_data=(testX, testY), epochs=38, batch_size=42)"
      ],
      "execution_count": 14,
      "outputs": [
        {
          "output_type": "stream",
          "text": [
            "Epoch 1/38\n",
            "10/10 [==============================] - 1s 68ms/step - loss: 1.6109 - accuracy: 0.2438 - val_loss: 1.5793 - val_accuracy: 0.3162\n",
            "Epoch 2/38\n",
            "10/10 [==============================] - 1s 52ms/step - loss: 1.5777 - accuracy: 0.2389 - val_loss: 1.5400 - val_accuracy: 0.3603\n",
            "Epoch 3/38\n",
            "10/10 [==============================] - 1s 52ms/step - loss: 1.5520 - accuracy: 0.3005 - val_loss: 1.4960 - val_accuracy: 0.3456\n",
            "Epoch 4/38\n",
            "10/10 [==============================] - 1s 52ms/step - loss: 1.4950 - accuracy: 0.3350 - val_loss: 1.4535 - val_accuracy: 0.3529\n",
            "Epoch 5/38\n",
            "10/10 [==============================] - 1s 53ms/step - loss: 1.4522 - accuracy: 0.3596 - val_loss: 1.4668 - val_accuracy: 0.3456\n",
            "Epoch 6/38\n",
            "10/10 [==============================] - 1s 53ms/step - loss: 1.4180 - accuracy: 0.3916 - val_loss: 1.3805 - val_accuracy: 0.3897\n",
            "Epoch 7/38\n",
            "10/10 [==============================] - 1s 54ms/step - loss: 1.3733 - accuracy: 0.4384 - val_loss: 1.3696 - val_accuracy: 0.4338\n",
            "Epoch 8/38\n",
            "10/10 [==============================] - 1s 55ms/step - loss: 1.3137 - accuracy: 0.4261 - val_loss: 1.3439 - val_accuracy: 0.3529\n",
            "Epoch 9/38\n",
            "10/10 [==============================] - 1s 53ms/step - loss: 1.2515 - accuracy: 0.5074 - val_loss: 1.3070 - val_accuracy: 0.4338\n",
            "Epoch 10/38\n",
            "10/10 [==============================] - 1s 55ms/step - loss: 1.1838 - accuracy: 0.5394 - val_loss: 1.3200 - val_accuracy: 0.4265\n",
            "Epoch 11/38\n",
            "10/10 [==============================] - 1s 53ms/step - loss: 1.1429 - accuracy: 0.5468 - val_loss: 1.2172 - val_accuracy: 0.5368\n",
            "Epoch 12/38\n",
            "10/10 [==============================] - 1s 54ms/step - loss: 1.0696 - accuracy: 0.5788 - val_loss: 1.2105 - val_accuracy: 0.4632\n",
            "Epoch 13/38\n",
            "10/10 [==============================] - 1s 52ms/step - loss: 1.0412 - accuracy: 0.6034 - val_loss: 1.2714 - val_accuracy: 0.4338\n",
            "Epoch 14/38\n",
            "10/10 [==============================] - 1s 54ms/step - loss: 0.9849 - accuracy: 0.6355 - val_loss: 1.1814 - val_accuracy: 0.5735\n",
            "Epoch 15/38\n",
            "10/10 [==============================] - 1s 55ms/step - loss: 0.9371 - accuracy: 0.6601 - val_loss: 1.2173 - val_accuracy: 0.4853\n",
            "Epoch 16/38\n",
            "10/10 [==============================] - 1s 54ms/step - loss: 0.8586 - accuracy: 0.6995 - val_loss: 1.1583 - val_accuracy: 0.4926\n",
            "Epoch 17/38\n",
            "10/10 [==============================] - 1s 56ms/step - loss: 0.8674 - accuracy: 0.6675 - val_loss: 1.2084 - val_accuracy: 0.5441\n",
            "Epoch 18/38\n",
            "10/10 [==============================] - 1s 54ms/step - loss: 0.8058 - accuracy: 0.6872 - val_loss: 1.0965 - val_accuracy: 0.5515\n",
            "Epoch 19/38\n",
            "10/10 [==============================] - 1s 54ms/step - loss: 0.7244 - accuracy: 0.7143 - val_loss: 1.1264 - val_accuracy: 0.5368\n",
            "Epoch 20/38\n",
            "10/10 [==============================] - 1s 55ms/step - loss: 0.6710 - accuracy: 0.7635 - val_loss: 1.1325 - val_accuracy: 0.5735\n",
            "Epoch 21/38\n",
            "10/10 [==============================] - 1s 54ms/step - loss: 0.6877 - accuracy: 0.7365 - val_loss: 1.0785 - val_accuracy: 0.5221\n",
            "Epoch 22/38\n",
            "10/10 [==============================] - 1s 53ms/step - loss: 0.5769 - accuracy: 0.8079 - val_loss: 1.1323 - val_accuracy: 0.5588\n",
            "Epoch 23/38\n",
            "10/10 [==============================] - 1s 54ms/step - loss: 0.5688 - accuracy: 0.7857 - val_loss: 1.0921 - val_accuracy: 0.6029\n",
            "Epoch 24/38\n",
            "10/10 [==============================] - 1s 55ms/step - loss: 0.5139 - accuracy: 0.8448 - val_loss: 1.1010 - val_accuracy: 0.6103\n",
            "Epoch 25/38\n",
            "10/10 [==============================] - 1s 55ms/step - loss: 0.4654 - accuracy: 0.8448 - val_loss: 1.0699 - val_accuracy: 0.5735\n",
            "Epoch 26/38\n",
            "10/10 [==============================] - 1s 54ms/step - loss: 0.4821 - accuracy: 0.8276 - val_loss: 1.2986 - val_accuracy: 0.5588\n",
            "Epoch 27/38\n",
            "10/10 [==============================] - 1s 55ms/step - loss: 0.5561 - accuracy: 0.7980 - val_loss: 1.2324 - val_accuracy: 0.5074\n",
            "Epoch 28/38\n",
            "10/10 [==============================] - 1s 56ms/step - loss: 0.4977 - accuracy: 0.8005 - val_loss: 1.1864 - val_accuracy: 0.5956\n",
            "Epoch 29/38\n",
            "10/10 [==============================] - 1s 55ms/step - loss: 0.4682 - accuracy: 0.8276 - val_loss: 1.2431 - val_accuracy: 0.5809\n",
            "Epoch 30/38\n",
            "10/10 [==============================] - 1s 55ms/step - loss: 0.4030 - accuracy: 0.8596 - val_loss: 1.1773 - val_accuracy: 0.6103\n",
            "Epoch 31/38\n",
            "10/10 [==============================] - 1s 55ms/step - loss: 0.3598 - accuracy: 0.8892 - val_loss: 1.1248 - val_accuracy: 0.6324\n",
            "Epoch 32/38\n",
            "10/10 [==============================] - 1s 57ms/step - loss: 0.3343 - accuracy: 0.8941 - val_loss: 1.1518 - val_accuracy: 0.5882\n",
            "Epoch 33/38\n",
            "10/10 [==============================] - 1s 56ms/step - loss: 0.3122 - accuracy: 0.9064 - val_loss: 1.1539 - val_accuracy: 0.5662\n",
            "Epoch 34/38\n",
            "10/10 [==============================] - 1s 56ms/step - loss: 0.3556 - accuracy: 0.8670 - val_loss: 1.0973 - val_accuracy: 0.6397\n",
            "Epoch 35/38\n",
            "10/10 [==============================] - 1s 58ms/step - loss: 0.3083 - accuracy: 0.9138 - val_loss: 1.4084 - val_accuracy: 0.5956\n",
            "Epoch 36/38\n",
            "10/10 [==============================] - 1s 56ms/step - loss: 0.3180 - accuracy: 0.8941 - val_loss: 1.4193 - val_accuracy: 0.6250\n",
            "Epoch 37/38\n",
            "10/10 [==============================] - 1s 56ms/step - loss: 0.2973 - accuracy: 0.8941 - val_loss: 1.2007 - val_accuracy: 0.6397\n",
            "Epoch 38/38\n",
            "10/10 [==============================] - 1s 56ms/step - loss: 0.2101 - accuracy: 0.9384 - val_loss: 1.1564 - val_accuracy: 0.6176\n"
          ],
          "name": "stdout"
        }
      ]
    },
    {
      "cell_type": "code",
      "metadata": {
        "colab": {
          "base_uri": "https://localhost:8080/",
          "height": 590
        },
        "id": "NPSTDcoiWwlq",
        "outputId": "b67a704e-ceb7-4048-a6fe-01b55a4994ae"
      },
      "source": [
        "import matplotlib.pyplot as plt\n",
        "\n",
        "print(H.history.keys())\n",
        "# summarize history for accuracy\n",
        "plt.plot(H.history['accuracy'])\n",
        "plt.plot(H.history['val_accuracy'])\n",
        "plt.title('model accuracy')\n",
        "plt.ylabel('accuracy')\n",
        "plt.xlabel('epoch')\n",
        "plt.legend(['train', 'test'], loc='upper left')\n",
        "plt.show()\n",
        "# summarize history for loss\n",
        "plt.plot(H.history['loss'])\n",
        "plt.plot(H.history['val_loss'])\n",
        "plt.title('model loss')\n",
        "plt.ylabel('loss')\n",
        "plt.xlabel('epoch')\n",
        "plt.legend(['train', 'test'], loc='upper left')\n",
        "plt.show()"
      ],
      "execution_count": 15,
      "outputs": [
        {
          "output_type": "stream",
          "text": [
            "dict_keys(['loss', 'accuracy', 'val_loss', 'val_accuracy'])\n"
          ],
          "name": "stdout"
        },
        {
          "output_type": "display_data",
          "data": {
            "image/png": "[encoded data removed]",
            "text/plain": [
              "<Figure size 432x288 with 1 Axes>"
            ]
          },
          "metadata": {
            "tags": [],
            "needs_background": "light"
          }
        },
        {
          "output_type": "display_data",
          "data": {
            "image/png": "[encoded data removed]",
            "text/plain": [
              "<Figure size 432x288 with 1 Axes>"
            ]
          },
          "metadata": {
            "tags": [],
            "needs_background": "light"
          }
        }
      ]
    },
    {
      "cell_type": "code",
      "metadata": {
        "colab": {
          "base_uri": "https://localhost:8080/"
        },
        "id": "LYyBwhTxW0o6",
        "outputId": "147380ff-77a6-4553-a619-be23a0241a94"
      },
      "source": [
        "print(\"[INFO] evaluating network...\")\n",
        "predictions = model1.predict(testX, batch_size=42)\n",
        "print(classification_report(testY.argmax(axis=1),\n",
        "\tpredictions.argmax(axis=1), target_names=lb.classes_))"
      ],
      "execution_count": 16,
      "outputs": [
        {
          "output_type": "stream",
          "text": [
            "[INFO] evaluating network...\n",
            "              precision    recall  f1-score   support\n",
            "\n",
            "      GMB_01       0.59      0.83      0.69        24\n",
            "      GMB_02       0.67      0.71      0.69        28\n",
            "      GMB_04       0.44      0.40      0.42        30\n",
            "      GMB_07       0.58      0.42      0.49        26\n",
            "      GMB_10       0.81      0.75      0.78        28\n",
            "\n",
            "    accuracy                           0.62       136\n",
            "   macro avg       0.62      0.62      0.61       136\n",
            "weighted avg       0.62      0.62      0.61       136\n",
            "\n"
          ],
          "name": "stdout"
        }
      ]
    },
    {
      "cell_type": "code",
      "metadata": {
        "id": "0XAgFpviW4r4"
      },
      "source": [
        ""
      ],
      "execution_count": null,
      "outputs": []
    }
  ]
}